{
  "nbformat": 4,
  "nbformat_minor": 0,
  "metadata": {
    "colab": {
      "provenance": []
    },
    "kernelspec": {
      "name": "python3",
      "display_name": "Python 3"
    },
    "language_info": {
      "name": "python"
    }
  },
  "cells": [
    {
      "cell_type": "markdown",
      "source": [
        "Download repository with examples"
      ],
      "metadata": {
        "id": "qS8MG5yUGrN5"
      }
    },
    {
      "cell_type": "code",
      "execution_count": null,
      "metadata": {
        "id": "qSL8OsntGlfG"
      },
      "outputs": [],
      "source": [
        "!git clone https://github.com/ctorresf/developer-guides.git"
      ]
    },
    {
      "cell_type": "markdown",
      "source": [
        "Install dependencies"
      ],
      "metadata": {
        "id": "tPIdb_SOGyvg"
      }
    },
    {
      "cell_type": "code",
      "source": [
        "pip install -r developer-guides/apache_beam/vscode-devcontainer-beam-case-study-rhl/requirements.txt"
      ],
      "metadata": {
        "id": "Isc3wWnFG0_i"
      },
      "execution_count": null,
      "outputs": []
    },
    {
      "cell_type": "markdown",
      "source": [
        "Move to the workspace"
      ],
      "metadata": {
        "id": "lIGzQnrcHpWj"
      }
    },
    {
      "cell_type": "code",
      "source": [
        "cd developer-guides/apache_beam/vscode-devcontainer-beam-case-study-rhl/"
      ],
      "metadata": {
        "id": "AuOFTe6EHrUd"
      },
      "execution_count": null,
      "outputs": []
    },
    {
      "cell_type": "markdown",
      "source": [
        "Create mock data"
      ],
      "metadata": {
        "id": "1x0if94ZHvl1"
      }
    },
    {
      "cell_type": "code",
      "source": [
        "!bash scripts/create_mock_data_localfile.sh"
      ],
      "metadata": {
        "id": "iyTfOpxaH5d5"
      },
      "execution_count": null,
      "outputs": []
    },
    {
      "cell_type": "markdown",
      "source": [
        "Convert files of telemetry data to Avro"
      ],
      "metadata": {
        "id": "8hw2Z0vXKPfc"
      }
    },
    {
      "cell_type": "code",
      "source": [
        "!python src/beam_datapipeline/convert_data_v1_telemetry.py \\\n",
        " --input_path output/landing_zone/cup/telemetry/*.json \\\n",
        " --output_path output/golden_zone/converted_telemetry_data/telemetry \\\n",
        " --output_format avro"
      ],
      "metadata": {
        "id": "uabBBhrbKQTb"
      },
      "execution_count": null,
      "outputs": []
    },
    {
      "cell_type": "markdown",
      "source": [
        "Convert files using pipeline v2"
      ],
      "metadata": {
        "id": "xYkKikyYKv93"
      }
    },
    {
      "cell_type": "code",
      "source": [
        "!python src/beam_datapipeline/convert_data_v2_generic.py \\\n",
        " --input_path output/landing_zone/cup/teams/*.json \\\n",
        " --avro_schema_path schemas/Team.avsc \\\n",
        " --output_path output/golden_zone/converted_generic/Team \\\n",
        " --output_format parquet"
      ],
      "metadata": {
        "id": "-RYRebxZK0xM"
      },
      "execution_count": null,
      "outputs": []
    },
    {
      "cell_type": "markdown",
      "source": [
        "Join Race events and Teams data"
      ],
      "metadata": {
        "id": "GjVMTJuIK_Ln"
      }
    },
    {
      "cell_type": "code",
      "source": [
        "!python src/beam_datapipeline/event_team_joiner.py \\\n",
        " --input_events output/landing_zone/cup/events/*.json \\\n",
        " --input_teams output/landing_zone/cup/teams/*.json\\\n",
        " --output output/golden_zone/events_with_team_data/data"
      ],
      "metadata": {
        "id": "J9QUGT27LAYK"
      },
      "execution_count": null,
      "outputs": []
    }
  ]
}